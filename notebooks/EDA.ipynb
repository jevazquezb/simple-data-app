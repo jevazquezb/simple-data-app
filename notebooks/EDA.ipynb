{
 "cells": [
  {
   "cell_type": "code",
   "execution_count": null,
   "id": "358d9914",
   "metadata": {},
   "outputs": [],
   "source": [
    "# Import required libraries\n",
    "import pandas as pd\n",
    "import plotly.graph_objects as go"
   ]
  },
  {
   "cell_type": "markdown",
   "id": "127e4c21",
   "metadata": {},
   "source": [
    "### 1. Dataset overview"
   ]
  },
  {
   "cell_type": "code",
   "execution_count": null,
   "id": "5870f709",
   "metadata": {},
   "outputs": [],
   "source": [
    "# Get US vehicles dataframe\n",
    "vehicles_df = pd.read_csv('../vehicles_us.csv')\n",
    "\n",
    "vehicles_df.sample(5)"
   ]
  },
  {
   "cell_type": "code",
   "execution_count": null,
   "id": "d287d07a",
   "metadata": {},
   "outputs": [],
   "source": [
    "# Get general info\n",
    "vehicles_df.info()"
   ]
  },
  {
   "cell_type": "code",
   "execution_count": null,
   "id": "c6571ba6",
   "metadata": {},
   "outputs": [],
   "source": [
    "# Check for duplicate records\n",
    "vehicles_df.duplicated().sum()"
   ]
  },
  {
   "cell_type": "code",
   "execution_count": null,
   "id": "b34446ba",
   "metadata": {},
   "outputs": [],
   "source": [
    "# Get descriptive statistics from dataset\n",
    "vehicles_df.describe()"
   ]
  },
  {
   "cell_type": "markdown",
   "id": "d713e34a",
   "metadata": {},
   "source": [
    "### 2. Basic data cleansing"
   ]
  },
  {
   "cell_type": "code",
   "execution_count": null,
   "id": "0c817afd",
   "metadata": {},
   "outputs": [],
   "source": [
    "# Convert date_posted to datetime\n",
    "vehicles_df['date_posted'] = pd.to_datetime(vehicles_df['date_posted'])\n",
    "\n",
    "# Replace NaNs in important columns if necessary (only if justified)\n",
    "vehicles_df['is_4wd'] = vehicles_df['is_4wd'].fillna(0)  # 1.0 if it has it, 0.0 if not\n"
   ]
  },
  {
   "cell_type": "markdown",
   "id": "c7994604",
   "metadata": {},
   "source": [
    "### 3. Exploratory graphics"
   ]
  },
  {
   "cell_type": "code",
   "execution_count": null,
   "id": "d27816d6",
   "metadata": {},
   "outputs": [],
   "source": [
    "# 1. Odometer histogram\n",
    "fig_odometer = go.Figure(data=[go.Histogram(\n",
    "    x=vehicles_df['odometer'],\n",
    "    xbins=dict(\n",
    "        start=0,    # Start of the first bin\n",
    "        end=400000,    # Upper limit of the x-axis\n",
    "        size=20000      # Bin size, e.g., 5 units wide\n",
    "    ),\n",
    "    marker=dict(\n",
    "        line=dict(\n",
    "            color='black',  # Color of the border\n",
    "            width=1         # Width of the border\n",
    "        )\n",
    "    )\n",
    ")])\n",
    "fig_odometer.update_layout(\n",
    "    title='Odometer distribution',\n",
    "    xaxis_title='Odometer',\n",
    "    yaxis_title='Frequency',\n",
    "    width=800,  # Set the desired width in pixels\n",
    "    height=500,  # Set the desired height in pixels\n",
    ")\n",
    "fig_odometer.show()"
   ]
  },
  {
   "cell_type": "code",
   "execution_count": null,
   "id": "9f01f575",
   "metadata": {},
   "outputs": [],
   "source": [
    "# Static plotly chart for github\n",
    "fig_odometer.write_image('fig_odometer.png')"
   ]
  },
  {
   "cell_type": "markdown",
   "id": "a542dc87",
   "metadata": {},
   "source": [
    "[comment]: # (Diplay odotemer distribution image for github)\n",
    "![Odometer distribution](fig_odometer.png)"
   ]
  },
  {
   "cell_type": "code",
   "execution_count": null,
   "id": "62c30149",
   "metadata": {},
   "outputs": [],
   "source": [
    "# 2. Price histogram\n",
    "fig_price = go.Figure(data=[go.Histogram(\n",
    "    x=vehicles_df['price'],\n",
    "    xbins=dict(\n",
    "        start=0,\n",
    "        end=60000,\n",
    "        size=3000\n",
    "    ),\n",
    "    marker=dict(\n",
    "        line=dict(\n",
    "            color='black',  # Color of the border\n",
    "            width=1         # Width of the border\n",
    "        )\n",
    "    )\n",
    ")])\n",
    "fig_price.update_layout(title='Price distribution',\n",
    "                        xaxis_title='Price',\n",
    "                        yaxis_title='Frequency',\n",
    "                        width=800,\n",
    "                        height=500\n",
    "                    )\n",
    "fig_price.show()"
   ]
  },
  {
   "cell_type": "code",
   "execution_count": null,
   "id": "78a7ae2b",
   "metadata": {},
   "outputs": [],
   "source": [
    "# Static plotly chart for github\n",
    "fig_price.write_image('fig_price.png')"
   ]
  },
  {
   "cell_type": "markdown",
   "id": "594e1d82",
   "metadata": {},
   "source": [
    "[comment]: # (Diplay price distribution image for github)\n",
    "![Price distribution](fig_price.png)"
   ]
  },
  {
   "cell_type": "code",
   "execution_count": null,
   "id": "bcc49829",
   "metadata": {},
   "outputs": [],
   "source": [
    "# 3. Model year histogram\n",
    "fig_year = go.Figure(data=[go.Histogram(\n",
    "    x=vehicles_df['model_year'],\n",
    "    xbins=dict(\n",
    "        start=1980\n",
    "    ),\n",
    "    marker=dict(\n",
    "        line=dict(\n",
    "            color='black',  # Color of the border\n",
    "            width=1         # Width of the border\n",
    "        )\n",
    "    )\n",
    ")])\n",
    "fig_year.update_layout(title='Model year distribution',\n",
    "                       xaxis_title='Model year',\n",
    "                       yaxis_title='Frequency',\n",
    "                       width=800,\n",
    "                       height=500\n",
    "                    )\n",
    "fig_year.show()"
   ]
  },
  {
   "cell_type": "code",
   "execution_count": null,
   "id": "2b3abc0a",
   "metadata": {},
   "outputs": [],
   "source": [
    "# Static plotly chart for github\n",
    "fig_year.write_image('fig_year.png')"
   ]
  },
  {
   "cell_type": "markdown",
   "id": "fdc21a84",
   "metadata": {},
   "source": [
    "[comment]: # (Diplay model year distribution image for github)\n",
    "![Model year distribution](fig_year.png)"
   ]
  },
  {
   "cell_type": "code",
   "execution_count": null,
   "id": "8f6d5a49",
   "metadata": {},
   "outputs": [],
   "source": [
    "# Get 'condition' column values.\n",
    "vehicles_df['condition'].dropna().unique()"
   ]
  },
  {
   "cell_type": "code",
   "execution_count": null,
   "id": "bd40e50f",
   "metadata": {},
   "outputs": [],
   "source": [
    "# 4. Scatter plot: Price vs. Odometer for 'like new' condition\n",
    "fig_scatter = go.Figure()\n",
    "\n",
    "condition = ['like new']\n",
    "\n",
    "# for cond in vehicles_df['condition'].dropna().unique():\n",
    "for cond in condition:\n",
    "    group = vehicles_df[vehicles_df['condition'] == cond]\n",
    "    fig_scatter.add_trace(go.Scatter(\n",
    "        x=group['odometer'],\n",
    "        y=group['price'],\n",
    "        mode='markers',\n",
    "        name=cond,\n",
    "        opacity=0.6,\n",
    "        hovertemplate=\"(%{x}, $%{y})<extra></extra>\"\n",
    "    ))\n",
    "\n",
    "fig_scatter.update_layout(title='Price vs. Odometer for \"Like New\" condition',\n",
    "                          xaxis_title='Odometer',\n",
    "                          yaxis_title='Price',\n",
    "                          xaxis=dict(range=[0, 400000])\n",
    "                        )\n",
    "fig_scatter.show()"
   ]
  },
  {
   "cell_type": "code",
   "execution_count": null,
   "id": "ca826aa2",
   "metadata": {},
   "outputs": [],
   "source": [
    "# Static plotly chart for github\n",
    "fig_scatter.write_image('fig_condition.png')"
   ]
  },
  {
   "cell_type": "markdown",
   "id": "0757f8a3",
   "metadata": {},
   "source": [
    "[comment]: # (Diplay odometer-vs-price image for github)\n",
    "![Price vs. Odometer for \"Like New\" condition](fig_condition.png)"
   ]
  },
  {
   "cell_type": "code",
   "execution_count": null,
   "id": "790e45a8",
   "metadata": {},
   "outputs": [],
   "source": [
    "# 5. Bar chart: Average price by car type\n",
    "avg_price_by_type = vehicles_df.groupby('type')['price'].mean().reset_index()\n",
    "\n",
    "fig_bar = go.Figure(data=[go.Bar(\n",
    "    x=avg_price_by_type['type'],\n",
    "    y=avg_price_by_type['price'],\n",
    "    hovertemplate=\"(%{x}, $%{y:,.0f})<extra></extra>\"\n",
    ")])\n",
    "\n",
    "fig_bar.update_layout(title='Average price by vehicle type',\n",
    "                      xaxis_title='Type',\n",
    "                      yaxis_title='Average price',\n",
    "                      width=800,\n",
    "                      height=500\n",
    "                    )\n",
    "fig_bar.show()"
   ]
  },
  {
   "cell_type": "code",
   "execution_count": null,
   "id": "fb385546",
   "metadata": {},
   "outputs": [],
   "source": [
    "# Static plotly chart for github\n",
    "fig_bar.write_image('fig_vehicle_type.png')"
   ]
  },
  {
   "cell_type": "markdown",
   "id": "6b9c00e1",
   "metadata": {},
   "source": [
    "[comment]: # (Diplay avg-price image for github)\n",
    "![Average price by vehicle type](fig_vehicle_type.png)"
   ]
  }
 ],
 "metadata": {
  "kernelspec": {
   "display_name": ".venv (3.13.1)",
   "language": "python",
   "name": "python3"
  },
  "language_info": {
   "codemirror_mode": {
    "name": "ipython",
    "version": 3
   },
   "file_extension": ".py",
   "mimetype": "text/x-python",
   "name": "python",
   "nbconvert_exporter": "python",
   "pygments_lexer": "ipython3",
   "version": "3.13.1"
  }
 },
 "nbformat": 4,
 "nbformat_minor": 5
}
